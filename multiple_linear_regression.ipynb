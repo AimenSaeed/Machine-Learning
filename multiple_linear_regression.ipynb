{
 "cells": [
  {
   "cell_type": "code",
   "execution_count": 3,
   "id": "45a7254d-02c6-401c-a352-aea344a5d33c",
   "metadata": {},
   "outputs": [],
   "source": [
    "import numpy as np\n",
    "import pandas as pd\n",
    "import matplotlib.pyplot as plt\n",
    "from sklearn.model_selection import train_test_split\n",
    "from sklearn.datasets import make_regression\n",
    "from sklearn.linear_model import LinearRegression \n",
    "from sklearn.metrics import mean_absolute_error, mean_squared_error, r2_score"
   ]
  },
  {
   "cell_type": "code",
   "execution_count": null,
   "id": "d27eff45-f136-4f13-93fc-f90f5e082f75",
   "metadata": {},
   "outputs": [],
   "source": [
    "\"Haan bhaae Hogaya hai change reflect jaan chor dy ab\""
   ]
  },
  {
   "cell_type": "code",
   "execution_count": 14,
   "id": "546a27e7-2eab-4eb8-a83b-07a7433b49aa",
   "metadata": {},
   "outputs": [],
   "source": [
    "X,y = make_regression(n_samples=200, n_features=2, n_informative=2, n_targets=1, noise=50)"
   ]
  },
  {
   "cell_type": "code",
   "execution_count": 17,
   "id": "bee09388-2c57-468f-aba4-05d5e581cb8f",
   "metadata": {},
   "outputs": [
    {
     "data": {
      "text/plain": [
       "array([[ 1.29534480e+00,  1.55377554e-01],\n",
       "       [ 5.45510665e-01, -1.71767767e+00],\n",
       "       [ 1.94135688e+00,  5.50557584e-01],\n",
       "       [ 6.65971628e-01,  1.40873749e+00],\n",
       "       [-8.92859578e-01,  5.27535192e-01],\n",
       "       [-3.99819797e-01, -4.95495416e-01],\n",
       "       [-2.34513658e-01, -1.03808876e+00],\n",
       "       [-3.48374222e-01,  9.76602587e-01],\n",
       "       [-8.74167892e-02, -1.11841674e+00],\n",
       "       [ 1.85489768e+00, -1.12084486e+00],\n",
       "       [-8.24883477e-01,  1.08951950e+00],\n",
       "       [-1.81058468e+00,  2.27841297e+00],\n",
       "       [ 1.19457244e+00, -8.11995802e-01],\n",
       "       [-1.08217957e+00, -9.98812020e-01],\n",
       "       [ 2.22174745e+00,  9.48689105e-01],\n",
       "       [ 9.89263006e-01, -4.87377118e-01],\n",
       "       [ 6.67530595e-01,  2.57878477e-01],\n",
       "       [ 1.46975182e-02,  7.83214373e-01],\n",
       "       [ 7.07919507e-01, -1.21673648e+00],\n",
       "       [ 3.97975239e-01, -7.72193001e-01],\n",
       "       [ 7.43172617e-01, -3.45020357e-01],\n",
       "       [-7.66281899e-01,  4.04426908e-01],\n",
       "       [ 1.47480413e+00, -3.02259732e-01],\n",
       "       [ 6.27730572e-01,  1.13892262e+00],\n",
       "       [-1.17678273e+00,  8.41692582e-01],\n",
       "       [ 1.64768816e-01, -3.12055323e-01],\n",
       "       [ 1.52540285e+00,  7.10533570e-01],\n",
       "       [ 5.37434695e-02, -1.52924095e+00],\n",
       "       [ 7.31918575e-01, -1.35433848e+00],\n",
       "       [-6.51735499e-01,  1.06743545e+00],\n",
       "       [ 8.09862646e-01,  9.88810017e-01],\n",
       "       [ 6.50277760e-01,  4.48599229e-01],\n",
       "       [ 3.67201484e-01,  8.37234441e-01],\n",
       "       [ 7.73732352e-01, -1.81945332e+00],\n",
       "       [ 4.07740692e-01, -7.16832299e-01],\n",
       "       [ 4.49475019e-01,  6.21826287e-01],\n",
       "       [-1.18228056e+00,  2.24788269e-01],\n",
       "       [-3.81994230e-01,  5.14698129e-01],\n",
       "       [ 1.05736081e+00, -2.25584394e-01],\n",
       "       [ 9.97023140e-01, -1.09221444e+00],\n",
       "       [ 1.82839621e+00, -1.38251937e+00],\n",
       "       [-1.30511250e+00, -1.77001920e+00],\n",
       "       [-1.87862533e+00,  1.75527612e+00],\n",
       "       [-4.02866405e-01, -1.91206122e+00],\n",
       "       [ 1.78095085e+00, -1.10677157e+00],\n",
       "       [ 5.26264024e-01, -9.48862411e-02],\n",
       "       [-1.00503500e-01,  4.45632133e-01],\n",
       "       [ 4.23779330e-02,  1.99843687e+00],\n",
       "       [ 5.95089660e-01,  4.21274119e-01],\n",
       "       [ 9.01630309e-01, -2.75944076e-01],\n",
       "       [-1.46126292e-01,  7.75518266e-01],\n",
       "       [ 1.76542737e-01, -1.02966202e+00],\n",
       "       [-3.02291379e-01, -1.44646314e+00],\n",
       "       [ 1.45219677e+00, -4.80723954e-01],\n",
       "       [-6.22854089e-01, -5.67671464e-01],\n",
       "       [-4.25087243e-01, -1.74583799e-01],\n",
       "       [-1.28510537e+00,  4.73421577e-01],\n",
       "       [ 5.08439076e-01,  9.72592535e-01],\n",
       "       [ 6.99459110e-01, -7.03161128e-01],\n",
       "       [-1.54068952e+00, -1.35444068e+00],\n",
       "       [-1.39714322e-01,  1.33003116e-02],\n",
       "       [ 9.66598784e-01, -4.28612261e-01],\n",
       "       [ 1.87369004e+00, -1.08813083e+00],\n",
       "       [-1.26445939e+00, -1.20198756e+00],\n",
       "       [ 9.26762243e-02, -5.15341568e-01],\n",
       "       [ 1.17620078e-01, -8.39631938e-01],\n",
       "       [ 1.24586519e+00,  9.01500885e-01],\n",
       "       [-1.63201236e+00,  1.23326283e-01],\n",
       "       [ 5.26767443e-01, -7.06760928e-01],\n",
       "       [ 3.85390705e-01,  4.91229589e-01],\n",
       "       [ 4.99547369e-02,  5.54579748e-01],\n",
       "       [-1.11736912e+00, -1.32104071e+00],\n",
       "       [ 6.76214010e-01,  1.27058221e+00],\n",
       "       [ 5.85304232e-01, -1.21175795e+00],\n",
       "       [-5.11176748e-01,  5.55215745e-02],\n",
       "       [-4.05509810e-01, -7.66458664e-01],\n",
       "       [-3.07396587e-01,  4.02366880e-02],\n",
       "       [-1.10617677e-01, -2.11563139e-01],\n",
       "       [ 6.95344789e-01,  3.78996137e-01],\n",
       "       [-1.25112374e+00,  3.18496503e-01],\n",
       "       [ 4.47571989e-01, -4.90930044e-01],\n",
       "       [-3.57849006e-01,  1.44235837e+00],\n",
       "       [ 2.33121243e-01, -9.62449068e-01],\n",
       "       [ 3.57170447e-01, -1.08321698e+00],\n",
       "       [ 4.97732425e-01,  1.42801157e+00],\n",
       "       [ 1.03575160e+00,  2.03758766e-01],\n",
       "       [-1.56277510e+00,  8.50930786e-02],\n",
       "       [ 1.64293545e+00, -1.13082074e+00],\n",
       "       [ 4.38547837e-02,  2.41142424e-01],\n",
       "       [-1.24117742e+00, -1.15175571e+00],\n",
       "       [-1.64873632e+00,  4.80061302e-02],\n",
       "       [ 8.83857477e-02, -3.88018089e-01],\n",
       "       [-1.21886800e-01,  8.58468870e-01],\n",
       "       [ 5.39615008e-01,  1.43549263e+00],\n",
       "       [-1.36320367e-03,  8.77219635e-01],\n",
       "       [ 5.62041334e-01, -1.01400962e+00],\n",
       "       [ 1.02222012e+00, -1.25031007e+00],\n",
       "       [-1.66297581e-01,  1.43041271e-01],\n",
       "       [ 1.48976228e+00,  2.69845904e-01],\n",
       "       [ 1.73559981e-01, -1.16550790e+00],\n",
       "       [-1.73808326e-02,  2.14212283e-03],\n",
       "       [-4.92461817e-01, -6.49500039e-01],\n",
       "       [-5.67185330e-01,  1.28071409e+00],\n",
       "       [ 1.08358061e+00,  4.07446772e-01],\n",
       "       [-1.35386018e+00,  9.59650275e-02],\n",
       "       [ 5.69661754e-01,  1.66175732e+00],\n",
       "       [-1.94400367e+00,  1.51783680e+00],\n",
       "       [ 2.61162890e-02, -5.03797071e-01],\n",
       "       [-1.74593595e+00, -1.15637808e-01],\n",
       "       [ 3.66774510e-02, -1.24341017e+00],\n",
       "       [-7.47107786e-01, -5.79081204e-01],\n",
       "       [-1.11262823e-01, -5.25424070e-01],\n",
       "       [-8.58187568e-01,  3.80970202e-01],\n",
       "       [ 2.60176228e+00,  6.26805069e-01],\n",
       "       [ 4.74898555e-01,  9.27700272e-01],\n",
       "       [ 1.22030690e+00,  1.75273310e+00],\n",
       "       [ 3.40171351e-01,  6.04732864e-01],\n",
       "       [ 1.47420535e+00,  5.60104984e-01],\n",
       "       [ 7.81933040e-01,  6.65562109e-01],\n",
       "       [ 8.93917630e-01, -1.65180387e+00],\n",
       "       [-1.59921239e-01,  1.57154057e+00],\n",
       "       [-6.41865902e-02, -1.38473055e+00],\n",
       "       [-9.04751481e-01,  3.43775555e-01],\n",
       "       [-6.34417984e-02,  2.67777978e-01],\n",
       "       [ 3.19877100e-01,  5.28495765e-01],\n",
       "       [-1.13464151e+00,  8.74406716e-01],\n",
       "       [-3.73302223e-01,  2.95010553e-01],\n",
       "       [-1.45903549e+00,  8.08894601e-01],\n",
       "       [-4.76790194e-01, -1.27194217e+00],\n",
       "       [ 7.91132956e-01, -1.50712075e-01],\n",
       "       [-2.86642603e-01,  1.60291972e+00],\n",
       "       [ 9.92207948e-01, -4.16262115e-01],\n",
       "       [ 1.58473310e+00,  3.51109983e-01],\n",
       "       [-1.00127500e+00, -3.66235861e-01],\n",
       "       [-6.23710094e-02, -1.24158360e+00],\n",
       "       [-9.32741793e-01, -8.15763757e-03],\n",
       "       [ 5.08492192e-01,  5.64662616e-01],\n",
       "       [ 4.61904319e-01,  1.97446804e+00],\n",
       "       [-1.89036275e-01, -7.26120319e-02],\n",
       "       [ 8.81998809e-01,  5.94945220e-02],\n",
       "       [ 1.60400753e+00, -1.58962171e+00],\n",
       "       [ 3.72361333e-01,  6.12572308e-01],\n",
       "       [-1.40126217e-01,  5.15768139e-01],\n",
       "       [ 4.44589940e-02,  4.21585503e-01],\n",
       "       [ 5.93096501e-01,  3.15304417e-01],\n",
       "       [ 6.04824873e-01,  4.00068434e-01],\n",
       "       [-2.47189606e+00,  2.77522044e-01],\n",
       "       [-1.50277309e+00,  9.73986891e-01],\n",
       "       [ 6.73835838e-01,  1.17550758e-02],\n",
       "       [-1.04748364e+00, -3.68704839e-01],\n",
       "       [ 5.63077815e-01,  4.69393637e-01],\n",
       "       [ 9.75880604e-01, -1.89767944e+00],\n",
       "       [ 5.65783766e-01,  1.38123814e+00],\n",
       "       [-1.89542563e+00, -1.71798975e+00],\n",
       "       [-3.49829577e-02,  1.51791773e+00],\n",
       "       [ 8.29831083e-01, -3.44426504e-01],\n",
       "       [ 5.47745882e-01, -7.54638274e-01],\n",
       "       [ 3.37716317e-01,  8.72717798e-01],\n",
       "       [-5.14825561e-01, -9.56464947e-01],\n",
       "       [ 2.44877561e-01, -2.31176502e-01],\n",
       "       [ 2.41703865e+00,  1.29595146e+00],\n",
       "       [-4.47317340e-01,  8.76034806e-01],\n",
       "       [ 7.99498863e-01, -1.18282677e+00],\n",
       "       [-1.56827939e+00, -1.84975247e+00],\n",
       "       [-4.14359721e-01, -6.92660730e-01],\n",
       "       [ 1.03482048e+00, -2.18827892e-01],\n",
       "       [-4.93160720e-01,  1.31283715e+00],\n",
       "       [-1.15545115e+00,  1.98957261e+00],\n",
       "       [ 4.60406825e-01, -5.66174147e-01],\n",
       "       [-3.88688599e-01,  6.51217651e-01],\n",
       "       [-1.10351759e+00, -1.43089510e+00],\n",
       "       [-6.38065439e-01, -5.31034872e-01],\n",
       "       [ 1.11770547e+00, -7.41245205e-01],\n",
       "       [ 8.48040234e-01,  2.56011667e-01],\n",
       "       [-4.58835285e-01,  2.75785983e-01],\n",
       "       [ 1.04672678e+00, -2.13431935e+00],\n",
       "       [ 8.52348658e-02, -1.38742010e-01],\n",
       "       [ 1.06966716e-01, -4.74027040e-01],\n",
       "       [ 2.01304249e-01, -2.02711046e+00],\n",
       "       [ 3.56391242e-01,  1.27028848e+00],\n",
       "       [-3.04709062e-02, -1.26427445e+00],\n",
       "       [ 5.59122610e-01, -1.20553367e-01],\n",
       "       [ 5.66822419e-01, -7.56802048e-02],\n",
       "       [ 1.25992424e-01,  6.65686519e-01],\n",
       "       [ 3.22824855e-01,  2.82789218e-01],\n",
       "       [-1.27542844e+00,  2.15603368e-01],\n",
       "       [ 9.46908618e-01,  1.27479951e+00],\n",
       "       [-1.34262458e+00, -1.59823441e+00],\n",
       "       [ 8.41597193e-01, -5.82688120e-01],\n",
       "       [-3.13022047e-01, -6.95472918e-02],\n",
       "       [ 8.98704772e-01, -2.27596877e-01],\n",
       "       [-7.42704094e-01,  5.73055518e-01],\n",
       "       [ 4.14804358e-01,  4.37254190e-01],\n",
       "       [ 3.18563838e-02,  8.44270481e-01],\n",
       "       [ 7.89696233e-01, -1.55477183e+00],\n",
       "       [ 9.27562223e-01, -2.99500014e-01],\n",
       "       [ 1.63425749e+00,  8.21436844e-02],\n",
       "       [ 9.97057820e-01, -1.49979978e-01],\n",
       "       [-4.25894312e-01,  5.69783723e-01],\n",
       "       [-1.46822944e+00,  5.49979489e-01]])"
      ]
     },
     "execution_count": 17,
     "metadata": {},
     "output_type": "execute_result"
    }
   ],
   "source": [
    "X"
   ]
  },
  {
   "cell_type": "code",
   "execution_count": 18,
   "id": "855b482a-34fb-405a-a491-bfd436099087",
   "metadata": {},
   "outputs": [
    {
     "data": {
      "text/plain": [
       "array([ 1.07512860e+02,  3.06559988e+01,  6.73051980e+01, -3.05019430e+01,\n",
       "       -2.97299602e+01, -2.77521972e+01, -4.29653213e+00,  7.64834708e+01,\n",
       "        1.62663605e+01,  1.15927280e+02, -7.02659843e+00, -9.04190692e+01,\n",
       "        1.10546794e+02, -7.87855548e+01,  1.79974884e+02,  1.08864840e+02,\n",
       "       -7.03060942e+00, -1.26880489e+01,  4.06252934e+01,  3.83619189e+01,\n",
       "       -2.27565626e+01, -7.71805625e+01, -1.87966750e+00,  1.06758047e+01,\n",
       "       -6.33665199e+01,  1.87768595e+01,  1.33535730e+02,  1.37153685e+01,\n",
       "       -4.44549493e+00, -3.87571100e+01,  1.27219706e+02,  7.77473668e+01,\n",
       "        6.87910130e+00,  1.07894446e+02,  1.59597630e+01,  6.45953172e+01,\n",
       "       -9.46428367e+01,  1.01390211e+02,  1.16101944e+02,  8.91641965e+01,\n",
       "        8.19490649e+01, -1.22089221e+02, -2.14709029e+01, -6.17714759e+01,\n",
       "        1.36040847e+02, -4.19481113e+01, -7.16623638e+01,  5.58492306e+01,\n",
       "       -1.44263715e+00, -1.68472188e+01,  1.66825169e+01,  1.63996607e+01,\n",
       "       -9.39736376e+01,  1.27262227e+02,  6.65958079e+00, -6.49319128e+01,\n",
       "       -1.38889442e+02,  4.83536517e+01,  6.59299563e+01, -7.18048724e+01,\n",
       "        1.78703936e+01, -1.43337920e-01,  9.98687820e+00, -1.39319972e+02,\n",
       "       -9.62674436e+01,  1.93440163e+00,  1.24285015e+02, -1.49351660e+02,\n",
       "        5.69409403e+01,  8.06953809e+00,  3.49504836e+01, -1.66510430e+02,\n",
       "        5.89521172e+01,  6.24150481e+00, -1.22896167e+02, -6.20108922e+01,\n",
       "       -1.80927056e+01,  4.19376392e+01,  1.85686660e+02, -8.83386179e+01,\n",
       "        4.37655176e+01,  4.78576291e+01, -4.32714159e+01, -4.96628425e+00,\n",
       "        1.39430081e+02,  1.14650357e+00, -5.38263560e+01,  1.09835543e+02,\n",
       "        1.36079405e+01, -1.38617473e+02, -9.43742361e+01,  3.23081090e+01,\n",
       "        2.55036479e+01,  7.42101265e+01, -7.35496824e+00,  2.14501806e+01,\n",
       "        1.91069012e+01, -3.63737631e+01,  1.60743011e+02, -3.72391957e+01,\n",
       "        6.31219414e+01, -2.68201377e+01, -2.66258694e+01,  1.43067706e+02,\n",
       "       -1.20443767e+02,  7.48601935e+01, -1.29239440e+02,  4.81844221e+00,\n",
       "       -4.94738050e+01, -2.38846101e+01, -4.00074419e+01,  8.46605861e+00,\n",
       "        3.07554144e+00,  1.80228874e+02,  1.11992471e+02,  7.17278761e+01,\n",
       "       -3.32036021e+01,  1.74588555e+02,  2.00679548e+00, -6.63243239e+01,\n",
       "        2.40792006e+01, -4.99444627e+01, -9.85151367e+01, -6.62555886e+01,\n",
       "        5.78899956e+01, -1.38759315e+02, -1.17809754e+01, -4.35457038e+01,\n",
       "       -8.69172742e+01, -1.03314327e+00,  1.29707717e+02,  1.19201115e+02,\n",
       "        1.47329510e+02, -6.80610214e+01,  1.92044208e+01, -2.25030983e+01,\n",
       "        1.06822345e+02,  6.97381061e+01,  5.17282233e+01, -5.81633268e+01,\n",
       "        1.40512529e+02,  5.44277586e+01,  1.14141832e+02,  5.95261971e+00,\n",
       "        4.47413124e+01,  1.79773421e+02, -1.47304164e+02, -1.05405779e+01,\n",
       "        4.71827571e+00, -6.72319932e+01,  8.93747580e+00, -5.91816671e+01,\n",
       "        1.99659561e+02, -1.68234787e+02,  7.06274475e+01,  1.00022137e+02,\n",
       "        5.43008105e+01,  7.47887360e+01, -8.84804163e+01,  9.24117491e+00,\n",
       "        1.76767017e+02, -7.68211592e-01, -4.81009808e+01, -1.76372706e+02,\n",
       "       -2.43147012e+01,  1.02908990e+02, -1.13021768e+02, -3.78413976e+01,\n",
       "        4.66551222e+01, -1.45514811e+01, -7.37726598e+01,  1.29567624e+01,\n",
       "        5.89989467e+01,  6.72628686e-02,  2.73693949e+01,  9.20949062e+01,\n",
       "       -1.14300517e+02,  1.20332008e+02,  4.15592912e+01,  7.25341318e+01,\n",
       "       -5.95740133e+01,  2.55653612e+01,  2.44069102e+00,  2.19683537e+01,\n",
       "        1.43337840e+01, -7.91681349e+01,  7.74568697e+01, -1.82056121e+02,\n",
       "        6.74412187e+01,  3.10437921e+00,  3.18421990e+01,  3.19316056e+01,\n",
       "        8.70080591e+01, -7.86365848e+01,  1.76534959e+01,  4.84016466e+01,\n",
       "        7.50408185e+01,  5.72967526e+01, -1.85973499e+01, -7.16721160e+01])"
      ]
     },
     "execution_count": 18,
     "metadata": {},
     "output_type": "execute_result"
    }
   ],
   "source": [
    "y"
   ]
  },
  {
   "cell_type": "code",
   "execution_count": 15,
   "id": "e18e80d5-5dab-47d7-8a52-afd3949562ef",
   "metadata": {},
   "outputs": [],
   "source": [
    "df=pd.DataFrame({'feature1':X[:,0],'feature2':X[:,1],'target':y})"
   ]
  },
  {
   "cell_type": "code",
   "execution_count": 16,
   "id": "1cf76f0f-622b-4054-83c8-11cd76fe602b",
   "metadata": {},
   "outputs": [
    {
     "data": {
      "text/html": [
       "<div>\n",
       "<style scoped>\n",
       "    .dataframe tbody tr th:only-of-type {\n",
       "        vertical-align: middle;\n",
       "    }\n",
       "\n",
       "    .dataframe tbody tr th {\n",
       "        vertical-align: top;\n",
       "    }\n",
       "\n",
       "    .dataframe thead th {\n",
       "        text-align: right;\n",
       "    }\n",
       "</style>\n",
       "<table border=\"1\" class=\"dataframe\">\n",
       "  <thead>\n",
       "    <tr style=\"text-align: right;\">\n",
       "      <th></th>\n",
       "      <th>feature1</th>\n",
       "      <th>feature2</th>\n",
       "      <th>target</th>\n",
       "    </tr>\n",
       "  </thead>\n",
       "  <tbody>\n",
       "    <tr>\n",
       "      <th>0</th>\n",
       "      <td>1.295345</td>\n",
       "      <td>0.155378</td>\n",
       "      <td>107.512860</td>\n",
       "    </tr>\n",
       "    <tr>\n",
       "      <th>1</th>\n",
       "      <td>0.545511</td>\n",
       "      <td>-1.717678</td>\n",
       "      <td>30.655999</td>\n",
       "    </tr>\n",
       "    <tr>\n",
       "      <th>2</th>\n",
       "      <td>1.941357</td>\n",
       "      <td>0.550558</td>\n",
       "      <td>67.305198</td>\n",
       "    </tr>\n",
       "    <tr>\n",
       "      <th>3</th>\n",
       "      <td>0.665972</td>\n",
       "      <td>1.408737</td>\n",
       "      <td>-30.501943</td>\n",
       "    </tr>\n",
       "    <tr>\n",
       "      <th>4</th>\n",
       "      <td>-0.892860</td>\n",
       "      <td>0.527535</td>\n",
       "      <td>-29.729960</td>\n",
       "    </tr>\n",
       "    <tr>\n",
       "      <th>...</th>\n",
       "      <td>...</td>\n",
       "      <td>...</td>\n",
       "      <td>...</td>\n",
       "    </tr>\n",
       "    <tr>\n",
       "      <th>195</th>\n",
       "      <td>0.927562</td>\n",
       "      <td>-0.299500</td>\n",
       "      <td>48.401647</td>\n",
       "    </tr>\n",
       "    <tr>\n",
       "      <th>196</th>\n",
       "      <td>1.634257</td>\n",
       "      <td>0.082144</td>\n",
       "      <td>75.040818</td>\n",
       "    </tr>\n",
       "    <tr>\n",
       "      <th>197</th>\n",
       "      <td>0.997058</td>\n",
       "      <td>-0.149980</td>\n",
       "      <td>57.296753</td>\n",
       "    </tr>\n",
       "    <tr>\n",
       "      <th>198</th>\n",
       "      <td>-0.425894</td>\n",
       "      <td>0.569784</td>\n",
       "      <td>-18.597350</td>\n",
       "    </tr>\n",
       "    <tr>\n",
       "      <th>199</th>\n",
       "      <td>-1.468229</td>\n",
       "      <td>0.549979</td>\n",
       "      <td>-71.672116</td>\n",
       "    </tr>\n",
       "  </tbody>\n",
       "</table>\n",
       "<p>200 rows × 3 columns</p>\n",
       "</div>"
      ],
      "text/plain": [
       "     feature1  feature2      target\n",
       "0    1.295345  0.155378  107.512860\n",
       "1    0.545511 -1.717678   30.655999\n",
       "2    1.941357  0.550558   67.305198\n",
       "3    0.665972  1.408737  -30.501943\n",
       "4   -0.892860  0.527535  -29.729960\n",
       "..        ...       ...         ...\n",
       "195  0.927562 -0.299500   48.401647\n",
       "196  1.634257  0.082144   75.040818\n",
       "197  0.997058 -0.149980   57.296753\n",
       "198 -0.425894  0.569784  -18.597350\n",
       "199 -1.468229  0.549979  -71.672116\n",
       "\n",
       "[200 rows x 3 columns]"
      ]
     },
     "execution_count": 16,
     "metadata": {},
     "output_type": "execute_result"
    }
   ],
   "source": [
    "df"
   ]
  },
  {
   "cell_type": "code",
   "execution_count": 19,
   "id": "ca10426a-8d33-425e-a637-4ee1fe61d618",
   "metadata": {},
   "outputs": [],
   "source": [
    "X_train,X_test,y_train,y_test=train_test_split(X,y,test_size=0.2)"
   ]
  },
  {
   "cell_type": "code",
   "execution_count": 21,
   "id": "11cc280e-21e2-4516-85b2-d80ec71e8454",
   "metadata": {},
   "outputs": [
    {
     "data": {
      "text/html": [
       "<style>#sk-container-id-1 {\n",
       "  /* Definition of color scheme common for light and dark mode */\n",
       "  --sklearn-color-text: black;\n",
       "  --sklearn-color-line: gray;\n",
       "  /* Definition of color scheme for unfitted estimators */\n",
       "  --sklearn-color-unfitted-level-0: #fff5e6;\n",
       "  --sklearn-color-unfitted-level-1: #f6e4d2;\n",
       "  --sklearn-color-unfitted-level-2: #ffe0b3;\n",
       "  --sklearn-color-unfitted-level-3: chocolate;\n",
       "  /* Definition of color scheme for fitted estimators */\n",
       "  --sklearn-color-fitted-level-0: #f0f8ff;\n",
       "  --sklearn-color-fitted-level-1: #d4ebff;\n",
       "  --sklearn-color-fitted-level-2: #b3dbfd;\n",
       "  --sklearn-color-fitted-level-3: cornflowerblue;\n",
       "\n",
       "  /* Specific color for light theme */\n",
       "  --sklearn-color-text-on-default-background: var(--sg-text-color, var(--theme-code-foreground, var(--jp-content-font-color1, black)));\n",
       "  --sklearn-color-background: var(--sg-background-color, var(--theme-background, var(--jp-layout-color0, white)));\n",
       "  --sklearn-color-border-box: var(--sg-text-color, var(--theme-code-foreground, var(--jp-content-font-color1, black)));\n",
       "  --sklearn-color-icon: #696969;\n",
       "\n",
       "  @media (prefers-color-scheme: dark) {\n",
       "    /* Redefinition of color scheme for dark theme */\n",
       "    --sklearn-color-text-on-default-background: var(--sg-text-color, var(--theme-code-foreground, var(--jp-content-font-color1, white)));\n",
       "    --sklearn-color-background: var(--sg-background-color, var(--theme-background, var(--jp-layout-color0, #111)));\n",
       "    --sklearn-color-border-box: var(--sg-text-color, var(--theme-code-foreground, var(--jp-content-font-color1, white)));\n",
       "    --sklearn-color-icon: #878787;\n",
       "  }\n",
       "}\n",
       "\n",
       "#sk-container-id-1 {\n",
       "  color: var(--sklearn-color-text);\n",
       "}\n",
       "\n",
       "#sk-container-id-1 pre {\n",
       "  padding: 0;\n",
       "}\n",
       "\n",
       "#sk-container-id-1 input.sk-hidden--visually {\n",
       "  border: 0;\n",
       "  clip: rect(1px 1px 1px 1px);\n",
       "  clip: rect(1px, 1px, 1px, 1px);\n",
       "  height: 1px;\n",
       "  margin: -1px;\n",
       "  overflow: hidden;\n",
       "  padding: 0;\n",
       "  position: absolute;\n",
       "  width: 1px;\n",
       "}\n",
       "\n",
       "#sk-container-id-1 div.sk-dashed-wrapped {\n",
       "  border: 1px dashed var(--sklearn-color-line);\n",
       "  margin: 0 0.4em 0.5em 0.4em;\n",
       "  box-sizing: border-box;\n",
       "  padding-bottom: 0.4em;\n",
       "  background-color: var(--sklearn-color-background);\n",
       "}\n",
       "\n",
       "#sk-container-id-1 div.sk-container {\n",
       "  /* jupyter's `normalize.less` sets `[hidden] { display: none; }`\n",
       "     but bootstrap.min.css set `[hidden] { display: none !important; }`\n",
       "     so we also need the `!important` here to be able to override the\n",
       "     default hidden behavior on the sphinx rendered scikit-learn.org.\n",
       "     See: https://github.com/scikit-learn/scikit-learn/issues/21755 */\n",
       "  display: inline-block !important;\n",
       "  position: relative;\n",
       "}\n",
       "\n",
       "#sk-container-id-1 div.sk-text-repr-fallback {\n",
       "  display: none;\n",
       "}\n",
       "\n",
       "div.sk-parallel-item,\n",
       "div.sk-serial,\n",
       "div.sk-item {\n",
       "  /* draw centered vertical line to link estimators */\n",
       "  background-image: linear-gradient(var(--sklearn-color-text-on-default-background), var(--sklearn-color-text-on-default-background));\n",
       "  background-size: 2px 100%;\n",
       "  background-repeat: no-repeat;\n",
       "  background-position: center center;\n",
       "}\n",
       "\n",
       "/* Parallel-specific style estimator block */\n",
       "\n",
       "#sk-container-id-1 div.sk-parallel-item::after {\n",
       "  content: \"\";\n",
       "  width: 100%;\n",
       "  border-bottom: 2px solid var(--sklearn-color-text-on-default-background);\n",
       "  flex-grow: 1;\n",
       "}\n",
       "\n",
       "#sk-container-id-1 div.sk-parallel {\n",
       "  display: flex;\n",
       "  align-items: stretch;\n",
       "  justify-content: center;\n",
       "  background-color: var(--sklearn-color-background);\n",
       "  position: relative;\n",
       "}\n",
       "\n",
       "#sk-container-id-1 div.sk-parallel-item {\n",
       "  display: flex;\n",
       "  flex-direction: column;\n",
       "}\n",
       "\n",
       "#sk-container-id-1 div.sk-parallel-item:first-child::after {\n",
       "  align-self: flex-end;\n",
       "  width: 50%;\n",
       "}\n",
       "\n",
       "#sk-container-id-1 div.sk-parallel-item:last-child::after {\n",
       "  align-self: flex-start;\n",
       "  width: 50%;\n",
       "}\n",
       "\n",
       "#sk-container-id-1 div.sk-parallel-item:only-child::after {\n",
       "  width: 0;\n",
       "}\n",
       "\n",
       "/* Serial-specific style estimator block */\n",
       "\n",
       "#sk-container-id-1 div.sk-serial {\n",
       "  display: flex;\n",
       "  flex-direction: column;\n",
       "  align-items: center;\n",
       "  background-color: var(--sklearn-color-background);\n",
       "  padding-right: 1em;\n",
       "  padding-left: 1em;\n",
       "}\n",
       "\n",
       "\n",
       "/* Toggleable style: style used for estimator/Pipeline/ColumnTransformer box that is\n",
       "clickable and can be expanded/collapsed.\n",
       "- Pipeline and ColumnTransformer use this feature and define the default style\n",
       "- Estimators will overwrite some part of the style using the `sk-estimator` class\n",
       "*/\n",
       "\n",
       "/* Pipeline and ColumnTransformer style (default) */\n",
       "\n",
       "#sk-container-id-1 div.sk-toggleable {\n",
       "  /* Default theme specific background. It is overwritten whether we have a\n",
       "  specific estimator or a Pipeline/ColumnTransformer */\n",
       "  background-color: var(--sklearn-color-background);\n",
       "}\n",
       "\n",
       "/* Toggleable label */\n",
       "#sk-container-id-1 label.sk-toggleable__label {\n",
       "  cursor: pointer;\n",
       "  display: block;\n",
       "  width: 100%;\n",
       "  margin-bottom: 0;\n",
       "  padding: 0.5em;\n",
       "  box-sizing: border-box;\n",
       "  text-align: center;\n",
       "}\n",
       "\n",
       "#sk-container-id-1 label.sk-toggleable__label-arrow:before {\n",
       "  /* Arrow on the left of the label */\n",
       "  content: \"▸\";\n",
       "  float: left;\n",
       "  margin-right: 0.25em;\n",
       "  color: var(--sklearn-color-icon);\n",
       "}\n",
       "\n",
       "#sk-container-id-1 label.sk-toggleable__label-arrow:hover:before {\n",
       "  color: var(--sklearn-color-text);\n",
       "}\n",
       "\n",
       "/* Toggleable content - dropdown */\n",
       "\n",
       "#sk-container-id-1 div.sk-toggleable__content {\n",
       "  max-height: 0;\n",
       "  max-width: 0;\n",
       "  overflow: hidden;\n",
       "  text-align: left;\n",
       "  /* unfitted */\n",
       "  background-color: var(--sklearn-color-unfitted-level-0);\n",
       "}\n",
       "\n",
       "#sk-container-id-1 div.sk-toggleable__content.fitted {\n",
       "  /* fitted */\n",
       "  background-color: var(--sklearn-color-fitted-level-0);\n",
       "}\n",
       "\n",
       "#sk-container-id-1 div.sk-toggleable__content pre {\n",
       "  margin: 0.2em;\n",
       "  border-radius: 0.25em;\n",
       "  color: var(--sklearn-color-text);\n",
       "  /* unfitted */\n",
       "  background-color: var(--sklearn-color-unfitted-level-0);\n",
       "}\n",
       "\n",
       "#sk-container-id-1 div.sk-toggleable__content.fitted pre {\n",
       "  /* unfitted */\n",
       "  background-color: var(--sklearn-color-fitted-level-0);\n",
       "}\n",
       "\n",
       "#sk-container-id-1 input.sk-toggleable__control:checked~div.sk-toggleable__content {\n",
       "  /* Expand drop-down */\n",
       "  max-height: 200px;\n",
       "  max-width: 100%;\n",
       "  overflow: auto;\n",
       "}\n",
       "\n",
       "#sk-container-id-1 input.sk-toggleable__control:checked~label.sk-toggleable__label-arrow:before {\n",
       "  content: \"▾\";\n",
       "}\n",
       "\n",
       "/* Pipeline/ColumnTransformer-specific style */\n",
       "\n",
       "#sk-container-id-1 div.sk-label input.sk-toggleable__control:checked~label.sk-toggleable__label {\n",
       "  color: var(--sklearn-color-text);\n",
       "  background-color: var(--sklearn-color-unfitted-level-2);\n",
       "}\n",
       "\n",
       "#sk-container-id-1 div.sk-label.fitted input.sk-toggleable__control:checked~label.sk-toggleable__label {\n",
       "  background-color: var(--sklearn-color-fitted-level-2);\n",
       "}\n",
       "\n",
       "/* Estimator-specific style */\n",
       "\n",
       "/* Colorize estimator box */\n",
       "#sk-container-id-1 div.sk-estimator input.sk-toggleable__control:checked~label.sk-toggleable__label {\n",
       "  /* unfitted */\n",
       "  background-color: var(--sklearn-color-unfitted-level-2);\n",
       "}\n",
       "\n",
       "#sk-container-id-1 div.sk-estimator.fitted input.sk-toggleable__control:checked~label.sk-toggleable__label {\n",
       "  /* fitted */\n",
       "  background-color: var(--sklearn-color-fitted-level-2);\n",
       "}\n",
       "\n",
       "#sk-container-id-1 div.sk-label label.sk-toggleable__label,\n",
       "#sk-container-id-1 div.sk-label label {\n",
       "  /* The background is the default theme color */\n",
       "  color: var(--sklearn-color-text-on-default-background);\n",
       "}\n",
       "\n",
       "/* On hover, darken the color of the background */\n",
       "#sk-container-id-1 div.sk-label:hover label.sk-toggleable__label {\n",
       "  color: var(--sklearn-color-text);\n",
       "  background-color: var(--sklearn-color-unfitted-level-2);\n",
       "}\n",
       "\n",
       "/* Label box, darken color on hover, fitted */\n",
       "#sk-container-id-1 div.sk-label.fitted:hover label.sk-toggleable__label.fitted {\n",
       "  color: var(--sklearn-color-text);\n",
       "  background-color: var(--sklearn-color-fitted-level-2);\n",
       "}\n",
       "\n",
       "/* Estimator label */\n",
       "\n",
       "#sk-container-id-1 div.sk-label label {\n",
       "  font-family: monospace;\n",
       "  font-weight: bold;\n",
       "  display: inline-block;\n",
       "  line-height: 1.2em;\n",
       "}\n",
       "\n",
       "#sk-container-id-1 div.sk-label-container {\n",
       "  text-align: center;\n",
       "}\n",
       "\n",
       "/* Estimator-specific */\n",
       "#sk-container-id-1 div.sk-estimator {\n",
       "  font-family: monospace;\n",
       "  border: 1px dotted var(--sklearn-color-border-box);\n",
       "  border-radius: 0.25em;\n",
       "  box-sizing: border-box;\n",
       "  margin-bottom: 0.5em;\n",
       "  /* unfitted */\n",
       "  background-color: var(--sklearn-color-unfitted-level-0);\n",
       "}\n",
       "\n",
       "#sk-container-id-1 div.sk-estimator.fitted {\n",
       "  /* fitted */\n",
       "  background-color: var(--sklearn-color-fitted-level-0);\n",
       "}\n",
       "\n",
       "/* on hover */\n",
       "#sk-container-id-1 div.sk-estimator:hover {\n",
       "  /* unfitted */\n",
       "  background-color: var(--sklearn-color-unfitted-level-2);\n",
       "}\n",
       "\n",
       "#sk-container-id-1 div.sk-estimator.fitted:hover {\n",
       "  /* fitted */\n",
       "  background-color: var(--sklearn-color-fitted-level-2);\n",
       "}\n",
       "\n",
       "/* Specification for estimator info (e.g. \"i\" and \"?\") */\n",
       "\n",
       "/* Common style for \"i\" and \"?\" */\n",
       "\n",
       ".sk-estimator-doc-link,\n",
       "a:link.sk-estimator-doc-link,\n",
       "a:visited.sk-estimator-doc-link {\n",
       "  float: right;\n",
       "  font-size: smaller;\n",
       "  line-height: 1em;\n",
       "  font-family: monospace;\n",
       "  background-color: var(--sklearn-color-background);\n",
       "  border-radius: 1em;\n",
       "  height: 1em;\n",
       "  width: 1em;\n",
       "  text-decoration: none !important;\n",
       "  margin-left: 1ex;\n",
       "  /* unfitted */\n",
       "  border: var(--sklearn-color-unfitted-level-1) 1pt solid;\n",
       "  color: var(--sklearn-color-unfitted-level-1);\n",
       "}\n",
       "\n",
       ".sk-estimator-doc-link.fitted,\n",
       "a:link.sk-estimator-doc-link.fitted,\n",
       "a:visited.sk-estimator-doc-link.fitted {\n",
       "  /* fitted */\n",
       "  border: var(--sklearn-color-fitted-level-1) 1pt solid;\n",
       "  color: var(--sklearn-color-fitted-level-1);\n",
       "}\n",
       "\n",
       "/* On hover */\n",
       "div.sk-estimator:hover .sk-estimator-doc-link:hover,\n",
       ".sk-estimator-doc-link:hover,\n",
       "div.sk-label-container:hover .sk-estimator-doc-link:hover,\n",
       ".sk-estimator-doc-link:hover {\n",
       "  /* unfitted */\n",
       "  background-color: var(--sklearn-color-unfitted-level-3);\n",
       "  color: var(--sklearn-color-background);\n",
       "  text-decoration: none;\n",
       "}\n",
       "\n",
       "div.sk-estimator.fitted:hover .sk-estimator-doc-link.fitted:hover,\n",
       ".sk-estimator-doc-link.fitted:hover,\n",
       "div.sk-label-container:hover .sk-estimator-doc-link.fitted:hover,\n",
       ".sk-estimator-doc-link.fitted:hover {\n",
       "  /* fitted */\n",
       "  background-color: var(--sklearn-color-fitted-level-3);\n",
       "  color: var(--sklearn-color-background);\n",
       "  text-decoration: none;\n",
       "}\n",
       "\n",
       "/* Span, style for the box shown on hovering the info icon */\n",
       ".sk-estimator-doc-link span {\n",
       "  display: none;\n",
       "  z-index: 9999;\n",
       "  position: relative;\n",
       "  font-weight: normal;\n",
       "  right: .2ex;\n",
       "  padding: .5ex;\n",
       "  margin: .5ex;\n",
       "  width: min-content;\n",
       "  min-width: 20ex;\n",
       "  max-width: 50ex;\n",
       "  color: var(--sklearn-color-text);\n",
       "  box-shadow: 2pt 2pt 4pt #999;\n",
       "  /* unfitted */\n",
       "  background: var(--sklearn-color-unfitted-level-0);\n",
       "  border: .5pt solid var(--sklearn-color-unfitted-level-3);\n",
       "}\n",
       "\n",
       ".sk-estimator-doc-link.fitted span {\n",
       "  /* fitted */\n",
       "  background: var(--sklearn-color-fitted-level-0);\n",
       "  border: var(--sklearn-color-fitted-level-3);\n",
       "}\n",
       "\n",
       ".sk-estimator-doc-link:hover span {\n",
       "  display: block;\n",
       "}\n",
       "\n",
       "/* \"?\"-specific style due to the `<a>` HTML tag */\n",
       "\n",
       "#sk-container-id-1 a.estimator_doc_link {\n",
       "  float: right;\n",
       "  font-size: 1rem;\n",
       "  line-height: 1em;\n",
       "  font-family: monospace;\n",
       "  background-color: var(--sklearn-color-background);\n",
       "  border-radius: 1rem;\n",
       "  height: 1rem;\n",
       "  width: 1rem;\n",
       "  text-decoration: none;\n",
       "  /* unfitted */\n",
       "  color: var(--sklearn-color-unfitted-level-1);\n",
       "  border: var(--sklearn-color-unfitted-level-1) 1pt solid;\n",
       "}\n",
       "\n",
       "#sk-container-id-1 a.estimator_doc_link.fitted {\n",
       "  /* fitted */\n",
       "  border: var(--sklearn-color-fitted-level-1) 1pt solid;\n",
       "  color: var(--sklearn-color-fitted-level-1);\n",
       "}\n",
       "\n",
       "/* On hover */\n",
       "#sk-container-id-1 a.estimator_doc_link:hover {\n",
       "  /* unfitted */\n",
       "  background-color: var(--sklearn-color-unfitted-level-3);\n",
       "  color: var(--sklearn-color-background);\n",
       "  text-decoration: none;\n",
       "}\n",
       "\n",
       "#sk-container-id-1 a.estimator_doc_link.fitted:hover {\n",
       "  /* fitted */\n",
       "  background-color: var(--sklearn-color-fitted-level-3);\n",
       "}\n",
       "</style><div id=\"sk-container-id-1\" class=\"sk-top-container\"><div class=\"sk-text-repr-fallback\"><pre>LinearRegression()</pre><b>In a Jupyter environment, please rerun this cell to show the HTML representation or trust the notebook. <br />On GitHub, the HTML representation is unable to render, please try loading this page with nbviewer.org.</b></div><div class=\"sk-container\" hidden><div class=\"sk-item\"><div class=\"sk-estimator fitted sk-toggleable\"><input class=\"sk-toggleable__control sk-hidden--visually\" id=\"sk-estimator-id-1\" type=\"checkbox\" checked><label for=\"sk-estimator-id-1\" class=\"sk-toggleable__label fitted sk-toggleable__label-arrow fitted\">&nbsp;&nbsp;LinearRegression<a class=\"sk-estimator-doc-link fitted\" rel=\"noreferrer\" target=\"_blank\" href=\"https://scikit-learn.org/1.5/modules/generated/sklearn.linear_model.LinearRegression.html\">?<span>Documentation for LinearRegression</span></a><span class=\"sk-estimator-doc-link fitted\">i<span>Fitted</span></span></label><div class=\"sk-toggleable__content fitted\"><pre>LinearRegression()</pre></div> </div></div></div></div>"
      ],
      "text/plain": [
       "LinearRegression()"
      ]
     },
     "execution_count": 21,
     "metadata": {},
     "output_type": "execute_result"
    }
   ],
   "source": [
    "model=LinearRegression()\n",
    "model.fit(X_train,y_train)"
   ]
  },
  {
   "cell_type": "code",
   "execution_count": 22,
   "id": "36938a0a-63c9-4d9d-ba16-dc6e2fda4993",
   "metadata": {},
   "outputs": [
    {
     "data": {
      "text/plain": [
       "array([67.26684798, 22.61507465])"
      ]
     },
     "execution_count": 22,
     "metadata": {},
     "output_type": "execute_result"
    }
   ],
   "source": [
    "model.coef_"
   ]
  },
  {
   "cell_type": "code",
   "execution_count": 23,
   "id": "976e0437-0830-4f19-ab22-7e3ed6e42c5d",
   "metadata": {},
   "outputs": [
    {
     "data": {
      "text/plain": [
       "5.992469631871582"
      ]
     },
     "execution_count": 23,
     "metadata": {},
     "output_type": "execute_result"
    }
   ],
   "source": [
    "model.intercept_"
   ]
  },
  {
   "cell_type": "code",
   "execution_count": 26,
   "id": "956e914b-5375-4a66-8ed7-4ff67a68d63f",
   "metadata": {},
   "outputs": [],
   "source": [
    "y_predict=model.predict(X_test)"
   ]
  },
  {
   "cell_type": "code",
   "execution_count": 28,
   "id": "d995c752-0cbb-4127-b233-279f1521da24",
   "metadata": {},
   "outputs": [
    {
     "name": "stdout",
     "output_type": "stream",
     "text": [
      "MSE: 2365.693012724084\n",
      "MAE: 38.0638186834867\n",
      "RMSE: 48.63839031797911\n",
      "R2 score: 0.6411139601073128\n"
     ]
    }
   ],
   "source": [
    "print(f'MSE: {mean_squared_error(y_test,y_predict)}')\n",
    "print(f'MAE: {mean_absolute_error(y_test,y_predict)}')\n",
    "print(f'RMSE: {np.sqrt(mean_squared_error(y_test,y_predict))}')\n",
    "print(f'R2 score: {r2_score(y_test,y_predict)}')"
   ]
  },
  {
   "cell_type": "markdown",
   "id": "f3afe04d-c100-4a8b-84da-c5c3e1c7cd8e",
   "metadata": {},
   "source": [
    "### MLR Using Sklearn Class"
   ]
  },
  {
   "cell_type": "code",
   "execution_count": 30,
   "id": "41f45f0c-adcd-4985-8f08-6051a623d271",
   "metadata": {},
   "outputs": [],
   "source": [
    "from sklearn.datasets import load_diabetes"
   ]
  },
  {
   "cell_type": "code",
   "execution_count": 31,
   "id": "e6c8e7bf-182a-452b-bd8c-0b6a41cd25da",
   "metadata": {},
   "outputs": [],
   "source": [
    "df=load_diabetes()"
   ]
  },
  {
   "cell_type": "code",
   "execution_count": 35,
   "id": "6ce89263-0588-4347-9654-7597a5013b0d",
   "metadata": {},
   "outputs": [],
   "source": [
    "X=df['data']"
   ]
  },
  {
   "cell_type": "code",
   "execution_count": 36,
   "id": "3e73b136-4863-4dad-9f6c-e26313fa4709",
   "metadata": {},
   "outputs": [
    {
     "data": {
      "text/plain": [
       "(442, 10)"
      ]
     },
     "execution_count": 36,
     "metadata": {},
     "output_type": "execute_result"
    }
   ],
   "source": [
    "X.shape"
   ]
  },
  {
   "cell_type": "code",
   "execution_count": 38,
   "id": "e8198b91-0f4e-49bf-8aef-9bababcfa3e1",
   "metadata": {},
   "outputs": [],
   "source": [
    "y=df['target']"
   ]
  },
  {
   "cell_type": "code",
   "execution_count": 39,
   "id": "4069348a-00ec-446d-9bca-382bc7fe333c",
   "metadata": {},
   "outputs": [
    {
     "data": {
      "text/plain": [
       "(442,)"
      ]
     },
     "execution_count": 39,
     "metadata": {},
     "output_type": "execute_result"
    }
   ],
   "source": [
    "y.shape"
   ]
  },
  {
   "cell_type": "code",
   "execution_count": 40,
   "id": "284d380b-9358-4348-b7a7-daede5e5f017",
   "metadata": {},
   "outputs": [],
   "source": [
    "X_train,X_test,y_train,y_test=train_test_split(X,y,test_size=0.2)"
   ]
  },
  {
   "cell_type": "code",
   "execution_count": 44,
   "id": "e3d8dda3-f3d7-4454-980e-d34d32baf25c",
   "metadata": {},
   "outputs": [
    {
     "name": "stdout",
     "output_type": "stream",
     "text": [
      "(353, 10)\n",
      "(89, 10)\n"
     ]
    }
   ],
   "source": [
    "print(X_train.shape)\n",
    "print(X_test.shape)"
   ]
  },
  {
   "cell_type": "code",
   "execution_count": 45,
   "id": "be3763d7-013b-4b5a-8bbd-b2edd5b45153",
   "metadata": {},
   "outputs": [],
   "source": [
    "lr=LinearRegression()\n",
    "lr.fit(X_train,y_train)\n",
    "y_predict=lr.predict(X_test)"
   ]
  },
  {
   "cell_type": "code",
   "execution_count": 46,
   "id": "572db683-fb98-440f-9d33-5a5402ef13bb",
   "metadata": {},
   "outputs": [
    {
     "data": {
      "text/plain": [
       "array([156.53492102, 249.44105415, 102.38092855,  38.14034537,\n",
       "       142.96451854,  92.36136935, 129.52877084, 157.57576276,\n",
       "        44.86707791, 154.89232078, 158.06243032,  54.58735952,\n",
       "       201.03170559, 237.19838689,  76.7045112 , 158.35759287,\n",
       "       172.89221631, 180.88296657, 183.09585807, 192.67913403,\n",
       "        79.76200808, 146.570457  , 123.19958848, 148.08194102,\n",
       "       167.01668198, 155.56531359,  91.60120891, 210.61425038,\n",
       "        86.48448998, 198.8729646 , 208.77193341,  53.76737842,\n",
       "       178.00440374,  58.643521  , 153.76045447, 207.01183778,\n",
       "       169.01904766, 278.24561767, 123.34783705, 107.69444352,\n",
       "       100.27768925, 181.81190698, 255.1895647 , 119.24474145,\n",
       "       218.71806599, 176.57180042, 114.44603524,  98.46050711,\n",
       "       252.95864299, 180.1905315 , 157.36769158, 123.99701567,\n",
       "       163.60531333, 106.88299229, 189.82640272, 214.55737866,\n",
       "       185.77273608, 141.59310323, 287.3027544 , 159.57524332,\n",
       "       129.78259488, 216.56612944, 117.27540473, 121.88158947,\n",
       "        99.9746806 ,  92.48307931, 159.11421652,  57.21334465,\n",
       "       145.36802471,  82.39683805, 194.47811042, 103.76298424,\n",
       "       206.01686463, 123.13589737,  68.74699866, 274.86725832,\n",
       "       130.16965799, 137.02949388, 159.3400143 ,  72.17746551,\n",
       "       199.31696817, 256.46802903, 155.32591376,  51.1491427 ,\n",
       "       194.95636817, 133.91588818, 262.25134285, 123.3217832 ,\n",
       "       147.467154  ])"
      ]
     },
     "execution_count": 46,
     "metadata": {},
     "output_type": "execute_result"
    }
   ],
   "source": [
    "y_predict"
   ]
  },
  {
   "cell_type": "code",
   "execution_count": 47,
   "id": "3824a265-7a2f-4843-8d6d-b55da88791a7",
   "metadata": {},
   "outputs": [
    {
     "data": {
      "text/plain": [
       "array([ -61.2414266 , -231.35781482,  506.64659567,  309.97240101,\n",
       "       -860.86855359,  537.66779628,   88.40196997,  176.3544726 ,\n",
       "        744.703884  ,  105.29197386])"
      ]
     },
     "execution_count": 47,
     "metadata": {},
     "output_type": "execute_result"
    }
   ],
   "source": [
    "lr.coef_"
   ]
  },
  {
   "cell_type": "code",
   "execution_count": 48,
   "id": "1414bb85-0305-4186-997a-22a90ecbbb25",
   "metadata": {},
   "outputs": [
    {
     "data": {
      "text/plain": [
       "151.10524426252516"
      ]
     },
     "execution_count": 48,
     "metadata": {},
     "output_type": "execute_result"
    }
   ],
   "source": [
    "lr.intercept_"
   ]
  },
  {
   "cell_type": "code",
   "execution_count": 50,
   "id": "9d4b62bd-a79d-46c8-8225-9fb3e13c001a",
   "metadata": {},
   "outputs": [
    {
     "data": {
      "text/plain": [
       "0.5891627868789857"
      ]
     },
     "execution_count": 50,
     "metadata": {},
     "output_type": "execute_result"
    }
   ],
   "source": [
    "r2_score(y_test,y_predict)"
   ]
  },
  {
   "cell_type": "markdown",
   "id": "f2cb5e2e-2c6c-47b4-8300-2195816d3af0",
   "metadata": {},
   "source": [
    "### MLR From Scratch Class"
   ]
  },
  {
   "cell_type": "code",
   "execution_count": 64,
   "id": "19dfff68-4dc0-444f-9452-6cd682bc643b",
   "metadata": {},
   "outputs": [],
   "source": [
    "class MLR:\n",
    "    def __init__(self):\n",
    "        self.coef_ = None\n",
    "        self.intercept_ = None\n",
    "        \n",
    "    def fit(self,X_train,y_train):\n",
    "        X_train = np.insert(X_train,0,1,axis=1)\n",
    "        \n",
    "        # calcuate the coeffs\n",
    "        betas = np.linalg.inv(np.dot(X_train.T,X_train)).dot(X_train.T).dot(y_train)\n",
    "        self.intercept_ = betas[0]\n",
    "        self.coef_ = betas[1:]\n",
    "    \n",
    "    def predict(self,X_test):\n",
    "        y_pred = np.dot(X_test,self.coef_) + self.intercept_\n",
    "        return y_pred\n",
    "        "
   ]
  },
  {
   "cell_type": "code",
   "execution_count": 70,
   "id": "2731cb29-3f6e-446a-b198-85b98abfaa6b",
   "metadata": {},
   "outputs": [],
   "source": [
    "mlr=MLR()\n",
    "mlr.fit(X_train,y_train)\n",
    "y_predict=mlr.predict(X_test)"
   ]
  },
  {
   "cell_type": "code",
   "execution_count": 66,
   "id": "f24930cb-3e11-495e-8508-61f4976a834b",
   "metadata": {},
   "outputs": [
    {
     "data": {
      "text/plain": [
       "array([ -61.2414266 , -231.35781482,  506.64659567,  309.97240101,\n",
       "       -860.86855359,  537.66779628,   88.40196997,  176.3544726 ,\n",
       "        744.703884  ,  105.29197386])"
      ]
     },
     "execution_count": 66,
     "metadata": {},
     "output_type": "execute_result"
    }
   ],
   "source": [
    "mlr.coef_"
   ]
  },
  {
   "cell_type": "code",
   "execution_count": 67,
   "id": "150ae326-d847-428e-9e44-5505208cfb85",
   "metadata": {},
   "outputs": [
    {
     "data": {
      "text/plain": [
       "151.10524426252516"
      ]
     },
     "execution_count": 67,
     "metadata": {},
     "output_type": "execute_result"
    }
   ],
   "source": [
    "mlr.intercept_"
   ]
  },
  {
   "cell_type": "code",
   "execution_count": 68,
   "id": "029f08a2-69e2-4039-9a77-98289d1b839b",
   "metadata": {},
   "outputs": [
    {
     "data": {
      "text/plain": [
       "array([ -61.2414266 , -231.35781482,  506.64659567,  309.97240101,\n",
       "       -860.86855359,  537.66779628,   88.40196997,  176.3544726 ,\n",
       "        744.703884  ,  105.29197386])"
      ]
     },
     "execution_count": 68,
     "metadata": {},
     "output_type": "execute_result"
    }
   ],
   "source": [
    "lr.coef_"
   ]
  },
  {
   "cell_type": "code",
   "execution_count": 69,
   "id": "ff7c3e12-4c4f-42ac-aadf-db01f1016a0d",
   "metadata": {},
   "outputs": [
    {
     "data": {
      "text/plain": [
       "151.10524426252516"
      ]
     },
     "execution_count": 69,
     "metadata": {},
     "output_type": "execute_result"
    }
   ],
   "source": [
    "lr.intercept_"
   ]
  },
  {
   "cell_type": "code",
   "execution_count": 72,
   "id": "f3f5ca69-977a-41d4-a7f2-5625b9e60fc1",
   "metadata": {},
   "outputs": [
    {
     "data": {
      "text/plain": [
       "0.5891627868789855"
      ]
     },
     "execution_count": 72,
     "metadata": {},
     "output_type": "execute_result"
    }
   ],
   "source": [
    "r2_score(y_test,y_predict)"
   ]
  }
 ],
 "metadata": {
  "kernelspec": {
   "display_name": "Python 3 (ipykernel)",
   "language": "python",
   "name": "python3"
  },
  "language_info": {
   "codemirror_mode": {
    "name": "ipython",
    "version": 3
   },
   "file_extension": ".py",
   "mimetype": "text/x-python",
   "name": "python",
   "nbconvert_exporter": "python",
   "pygments_lexer": "ipython3",
   "version": "3.12.4"
  }
 },
 "nbformat": 4,
 "nbformat_minor": 5
}
