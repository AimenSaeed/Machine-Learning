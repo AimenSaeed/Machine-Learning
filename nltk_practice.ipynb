{
 "cells": [
  {
   "cell_type": "code",
   "execution_count": 1,
   "id": "5e636865-eb5f-4048-bccf-b3de3a75c708",
   "metadata": {},
   "outputs": [],
   "source": [
    "corpus='''Quiad-e-Azam muhammad ali jinnah is the founder and first governer general of Pakistan.\n",
    "He was born on December 25, 1976.\n",
    "He and his sister muhatrama fatima jinnah struggled hard day and night for the sake of the muslims of subcontinent.\n",
    "They hold a significant place in the history of pakistan and muslims. \n",
    "Pakistan is the first country ever made on the name of Islam. \n",
    "'''"
   ]
  },
  {
   "cell_type": "code",
   "execution_count": 2,
   "id": "450f3c0d-e96f-4d35-8f11-b906656bd9ba",
   "metadata": {},
   "outputs": [],
   "source": [
    "#importing tokenization, stemming and lemmatization modules\n",
    "import nltk\n",
    "from nltk.tokenize import sent_tokenize, word_tokenize\n",
    "from nltk.stem import PorterStemmer\n",
    "from nltk.stem import WordNetLemmatizer\n",
    "from nltk.corpus import stopwords"
   ]
  },
  {
   "cell_type": "code",
   "execution_count": 3,
   "id": "ff7bef84-6783-453e-951d-0a677e6eba63",
   "metadata": {},
   "outputs": [
    {
     "data": {
      "text/plain": [
       "['Quiad-e-Azam muhammad ali jinnah is the founder and first governer general of Pakistan.',\n",
       " 'He was born on December 25, 1976.',\n",
       " 'He and his sister muhatrama fatima jinnah struggled hard day and night for the sake of the muslims of subcontinent.',\n",
       " 'They hold a significant place in the history of pakistan and muslims.',\n",
       " 'Pakistan is the first country ever made on the name of Islam.']"
      ]
     },
     "execution_count": 3,
     "metadata": {},
     "output_type": "execute_result"
    }
   ],
   "source": [
    "#Sentence Tokenization\n",
    "document=sent_tokenize(corpus)\n",
    "document"
   ]
  },
  {
   "cell_type": "code",
   "execution_count": 4,
   "id": "25c294a9-5117-4a73-a93b-2c0d887e8cd0",
   "metadata": {},
   "outputs": [],
   "source": [
    "#Stemming"
   ]
  },
  {
   "cell_type": "code",
   "execution_count": 5,
   "id": "f4b1204c-de94-49c4-ac76-c3fcdcfff877",
   "metadata": {},
   "outputs": [],
   "source": [
    "stem_words=PorterStemmer()"
   ]
  },
  {
   "cell_type": "code",
   "execution_count": 6,
   "id": "81a4cb75-a8da-4022-8a8b-99d39fa041b9",
   "metadata": {},
   "outputs": [],
   "source": [
    "# for i in range(len(document)):\n",
    "#     #word tokenization in document\n",
    "#     words=word_tokenize(document[i])\n",
    "    \n",
    "#     #stemming and removal of stop words from tokenized words\n",
    "#     words=[stem_words.stem(word) for word in words if word not in set(stopwords.words('english'))]\n",
    "    \n",
    "#     #joining stemmed words in document\n",
    "#     document[i]=' '.join(words)\n",
    "# document"
   ]
  },
  {
   "cell_type": "code",
   "execution_count": 7,
   "id": "e578af44-f181-417c-baae-261e564d25fe",
   "metadata": {},
   "outputs": [],
   "source": [
    "#Lemmatization"
   ]
  },
  {
   "cell_type": "markdown",
   "id": "ffd40bbd-238e-4ac3-a2be-34655337a256",
   "metadata": {},
   "source": [
    "lem_words=WordNetLemmatizer()"
   ]
  },
  {
   "cell_type": "code",
   "execution_count": 11,
   "id": "fa034bb3-c457-49a1-9c8f-f34d5f2339ee",
   "metadata": {},
   "outputs": [
    {
     "data": {
      "text/plain": [
       "['Quiad-e-Azam muhammad ali jinnah founder first governer general Pakistan .',\n",
       " 'He born December 25 , 1976 .',\n",
       " 'He sister muhatrama fatima jinnah struggled hard day night sake muslim subcontinent .',\n",
       " 'They hold significant place history pakistan muslim .',\n",
       " 'Pakistan first country ever made name Islam .']"
      ]
     },
     "execution_count": 11,
     "metadata": {},
     "output_type": "execute_result"
    }
   ],
   "source": [
    "for i in range(len(document)):\n",
    "    #word tokenization in document\n",
    "    words=word_tokenize(document[i])\n",
    "    \n",
    "    #lemmatization and removal of stop words from tokenized words\n",
    "    words=[lem_words.lemmatize(word) for word in words if word not in set(stopwords.words('english'))]\n",
    "    \n",
    "    #joining stemmed words in document\n",
    "    document[i]=' '.join(words)\n",
    "document"
   ]
  },
  {
   "cell_type": "code",
   "execution_count": null,
   "id": "4b621b77-bf08-4145-8be1-1afa6e5b957f",
   "metadata": {},
   "outputs": [],
   "source": [
    "#Bag of Words"
   ]
  },
  {
   "cell_type": "code",
   "execution_count": 13,
   "id": "44451718-d582-4084-b6d2-cc44f67a06b4",
   "metadata": {},
   "outputs": [],
   "source": [
    "from sklearn.feature_extraction.text import CountVectorizer"
   ]
  },
  {
   "cell_type": "code",
   "execution_count": 25,
   "id": "20c116c2-a773-4ef7-9cf5-16f79df4f594",
   "metadata": {},
   "outputs": [
    {
     "data": {
      "text/plain": [
       "{'quiad': 28,\n",
       " 'azam': 3,\n",
       " 'muhammad': 21,\n",
       " 'ali': 2,\n",
       " 'jinnah': 19,\n",
       " 'founder': 11,\n",
       " 'first': 10,\n",
       " 'governer': 13,\n",
       " 'general': 12,\n",
       " 'pakistan': 26,\n",
       " 'he': 15,\n",
       " 'born': 4,\n",
       " 'december': 7,\n",
       " '25': 1,\n",
       " '1976': 0,\n",
       " 'sister': 31,\n",
       " 'muhatrama': 22,\n",
       " 'fatima': 9,\n",
       " 'struggled': 32,\n",
       " 'hard': 14,\n",
       " 'day': 6,\n",
       " 'night': 25,\n",
       " 'sake': 29,\n",
       " 'muslim': 23,\n",
       " 'subcontinent': 33,\n",
       " 'they': 34,\n",
       " 'hold': 17,\n",
       " 'significant': 30,\n",
       " 'place': 27,\n",
       " 'history': 16,\n",
       " 'country': 5,\n",
       " 'ever': 8,\n",
       " 'made': 20,\n",
       " 'name': 24,\n",
       " 'islam': 18}"
      ]
     },
     "execution_count": 25,
     "metadata": {},
     "output_type": "execute_result"
    }
   ],
   "source": [
    "cv=CountVectorizer()\n",
    "X=cv.fit_transform(document)\n",
    "cv.vocabulary_"
   ]
  },
  {
   "cell_type": "code",
   "execution_count": 19,
   "id": "4a8d4f02-e917-43b2-912a-55212b849084",
   "metadata": {},
   "outputs": [
    {
     "data": {
      "text/plain": [
       "'Quiad-e-Azam muhammad ali jinnah founder first governer general Pakistan .'"
      ]
     },
     "execution_count": 19,
     "metadata": {},
     "output_type": "execute_result"
    }
   ],
   "source": [
    "document[0]"
   ]
  },
  {
   "cell_type": "code",
   "execution_count": 22,
   "id": "fb025125-7c06-43ce-b485-1f73c805f606",
   "metadata": {},
   "outputs": [
    {
     "data": {
      "text/plain": [
       "array([[0, 0, 1, 1, 0, 0, 0, 0, 0, 0, 1, 1, 1, 1, 0, 0, 0, 0, 0, 1, 0, 1,\n",
       "        0, 0, 0, 0, 1, 0, 1, 0, 0, 0, 0, 0, 0]], dtype=int64)"
      ]
     },
     "execution_count": 22,
     "metadata": {},
     "output_type": "execute_result"
    }
   ],
   "source": [
    "X[0].toarray()"
   ]
  },
  {
   "cell_type": "code",
   "execution_count": 26,
   "id": "09741598-9d3e-42d4-858d-5b6c6c6f6a35",
   "metadata": {},
   "outputs": [],
   "source": [
    "#TF-IDF"
   ]
  },
  {
   "cell_type": "code",
   "execution_count": 28,
   "id": "11d6e27a-915e-4e32-852d-9b29a86557ad",
   "metadata": {},
   "outputs": [],
   "source": [
    "from sklearn.feature_extraction.text import TfidfVectorizer"
   ]
  },
  {
   "cell_type": "code",
   "execution_count": 37,
   "id": "226b666c-9cfa-4c01-94ea-b3d28ad79aeb",
   "metadata": {},
   "outputs": [
    {
     "data": {
      "text/plain": [
       "{'ali jinnah founder': 0,\n",
       " 'sister muhatrama fatima': 2,\n",
       " 'significant place history': 1}"
      ]
     },
     "execution_count": 37,
     "metadata": {},
     "output_type": "execute_result"
    }
   ],
   "source": [
    "cv=TfidfVectorizer(ngram_range=(3,3),max_features=3)  #(max_features=features only that are  present alteast minimum times )\n",
    "X=cv.fit_transform(document)\n",
    "cv.vocabulary_"
   ]
  },
  {
   "cell_type": "code",
   "execution_count": 38,
   "id": "4d8e4561-3a46-4ee0-bf97-b992304ded6f",
   "metadata": {},
   "outputs": [
    {
     "data": {
      "text/plain": [
       "array([[1., 0., 0.]])"
      ]
     },
     "execution_count": 38,
     "metadata": {},
     "output_type": "execute_result"
    }
   ],
   "source": [
    "X[0].toarray()"
   ]
  },
  {
   "cell_type": "code",
   "execution_count": null,
   "id": "6488e28a-1c06-4780-bb2d-a9f8a4287c61",
   "metadata": {},
   "outputs": [],
   "source": []
  }
 ],
 "metadata": {
  "kernelspec": {
   "display_name": "Python 3 (ipykernel)",
   "language": "python",
   "name": "python3"
  },
  "language_info": {
   "codemirror_mode": {
    "name": "ipython",
    "version": 3
   },
   "file_extension": ".py",
   "mimetype": "text/x-python",
   "name": "python",
   "nbconvert_exporter": "python",
   "pygments_lexer": "ipython3",
   "version": "3.12.4"
  }
 },
 "nbformat": 4,
 "nbformat_minor": 5
}
