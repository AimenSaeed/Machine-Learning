{
 "cells": [
  {
   "cell_type": "code",
   "execution_count": 5,
   "id": "04d40c8b-fd13-432e-a1fd-95c54e9a1eb7",
   "metadata": {},
   "outputs": [],
   "source": [
    "from tensorflow.keras.preprocessing.text import one_hot"
   ]
  },
  {
   "cell_type": "code",
   "execution_count": 6,
   "id": "660c890d-df5c-4cb7-8cec-87719793455c",
   "metadata": {},
   "outputs": [],
   "source": [
    "sent=['the glass of milk',\n",
    "      'the glass of juice',\n",
    "      'the cup of tea',\n",
    "      'I am a good boy',\n",
    "      'I am a good developer',\n",
    "      'understand the meaning of words',\n",
    "      'your videos are good']"
   ]
  },
  {
   "cell_type": "code",
   "execution_count": 20,
   "id": "40c4f158-2c68-4216-9f14-08f9ab1adb2f",
   "metadata": {},
   "outputs": [],
   "source": [
    "#vocab size\n",
    "voc_size=500"
   ]
  },
  {
   "cell_type": "code",
   "execution_count": 21,
   "id": "36598da8-6e73-4086-9b62-decfd75a14c9",
   "metadata": {},
   "outputs": [],
   "source": [
    "#one hot representation"
   ]
  },
  {
   "cell_type": "code",
   "execution_count": 22,
   "id": "fbe38ed7-bd73-4ac4-a61e-8adecd9db920",
   "metadata": {},
   "outputs": [
    {
     "data": {
      "text/plain": [
       "[[146, 288, 14, 466],\n",
       " [146, 288, 14, 9],\n",
       " [146, 42, 14, 315],\n",
       " [197, 245, 305, 109, 372],\n",
       " [197, 245, 305, 109, 196],\n",
       " [227, 146, 261, 14, 234],\n",
       " [361, 239, 140, 109]]"
      ]
     },
     "execution_count": 22,
     "metadata": {},
     "output_type": "execute_result"
    }
   ],
   "source": [
    "onehot_rep=[one_hot(words,voc_size)for words in sent]\n",
    "onehot_rep"
   ]
  },
  {
   "cell_type": "code",
   "execution_count": 23,
   "id": "ab4cbd06-6836-491a-8d8b-cd006f541325",
   "metadata": {},
   "outputs": [],
   "source": [
    "#word embedding representation"
   ]
  },
  {
   "cell_type": "code",
   "execution_count": 31,
   "id": "eb0bce8c-b5ed-46aa-9872-8e2115ffc04f",
   "metadata": {},
   "outputs": [],
   "source": [
    "from tensorflow.keras.layers import Embedding\n",
    "from tensorflow.keras.preprocessing.sequence import pad_sequences\n",
    "from tensorflow.keras.models import Sequential\n",
    "import numpy as np"
   ]
  },
  {
   "cell_type": "code",
   "execution_count": 35,
   "id": "f90cf2ed-1032-44b1-b685-55c184e1dd2d",
   "metadata": {},
   "outputs": [
    {
     "data": {
      "text/plain": [
       "array([[  0,   0,   0,   0, 146, 288,  14, 466],\n",
       "       [  0,   0,   0,   0, 146, 288,  14,   9],\n",
       "       [  0,   0,   0,   0, 146,  42,  14, 315],\n",
       "       [  0,   0,   0, 197, 245, 305, 109, 372],\n",
       "       [  0,   0,   0, 197, 245, 305, 109, 196],\n",
       "       [  0,   0,   0, 227, 146, 261,  14, 234],\n",
       "       [  0,   0,   0,   0, 361, 239, 140, 109]])"
      ]
     },
     "execution_count": 35,
     "metadata": {},
     "output_type": "execute_result"
    }
   ],
   "source": [
    "#prepadding\n",
    "sent_length=8\n",
    "embedded_docs=pad_sequences(onehot_rep,padding='pre',maxlen=sent_length)\n",
    "embedded_docs"
   ]
  },
  {
   "cell_type": "code",
   "execution_count": null,
   "id": "b460dd9c-3dec-4168-80e0-eac3d4df409b",
   "metadata": {},
   "outputs": [],
   "source": []
  }
 ],
 "metadata": {
  "kernelspec": {
   "display_name": "Python 3 (ipykernel)",
   "language": "python",
   "name": "python3"
  },
  "language_info": {
   "codemirror_mode": {
    "name": "ipython",
    "version": 3
   },
   "file_extension": ".py",
   "mimetype": "text/x-python",
   "name": "python",
   "nbconvert_exporter": "python",
   "pygments_lexer": "ipython3",
   "version": "3.12.4"
  }
 },
 "nbformat": 4,
 "nbformat_minor": 5
}
